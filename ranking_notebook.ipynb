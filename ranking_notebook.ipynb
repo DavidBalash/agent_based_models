{
 "cells": [
  {
   "cell_type": "markdown",
   "metadata": {
    "collapsed": true
   },
   "source": [
    "# A Model for Rankings"
   ]
  },
  {
   "cell_type": "markdown",
   "metadata": {},
   "source": [
    "$r_u(t)$ = the ranking of university $u$ at time $t$.\n",
    "\n",
    "We'll use $t$ to represent time, which will generally think of\n",
    "as discrete. Thus $r_u(t-1)$ is university $u$'s ranking the year before.\n",
    "\n",
    "Let $M$ be the number of attributes in the ranking.\n",
    "\n",
    "$y_{i,u}(t)$ = the value of university $u$'s i-th attribute,\n",
    "where $i$ ranges from 1 to $M$.\n",
    "\n",
    "$w_i(t)$ is the weightage given to attribute $i$ in the ranking.\n",
    "This generally does not change frequently.\n",
    "\n",
    "We will now define the _score_ of a university as\n",
    "\n",
    "$$\n",
    "     \\mu_u(t) = \\sum_{i} w_i(t) V_i(y_{i,u}(t))\n",
    "$$"
   ]
  },
  {
   "cell_type": "code",
   "execution_count": 1,
   "metadata": {},
   "outputs": [
    {
     "data": {
      "text/html": [
       "<div>\n",
       "<style scoped>\n",
       "    .dataframe tbody tr th:only-of-type {\n",
       "        vertical-align: middle;\n",
       "    }\n",
       "\n",
       "    .dataframe tbody tr th {\n",
       "        vertical-align: top;\n",
       "    }\n",
       "\n",
       "    .dataframe thead th {\n",
       "        text-align: right;\n",
       "    }\n",
       "</style>\n",
       "<table border=\"1\" class=\"dataframe\">\n",
       "  <thead>\n",
       "    <tr style=\"text-align: right;\">\n",
       "      <th></th>\n",
       "      <th>University</th>\n",
       "      <th>Time</th>\n",
       "      <th>Rank</th>\n",
       "      <th>Score</th>\n",
       "    </tr>\n",
       "  </thead>\n",
       "  <tbody>\n",
       "    <tr>\n",
       "      <th>0</th>\n",
       "      <td>University 1</td>\n",
       "      <td>1</td>\n",
       "      <td>1.0</td>\n",
       "      <td>71.684350</td>\n",
       "    </tr>\n",
       "    <tr>\n",
       "      <th>1</th>\n",
       "      <td>University 2</td>\n",
       "      <td>1</td>\n",
       "      <td>2.0</td>\n",
       "      <td>62.146668</td>\n",
       "    </tr>\n",
       "    <tr>\n",
       "      <th>2</th>\n",
       "      <td>University 1</td>\n",
       "      <td>2</td>\n",
       "      <td>1.0</td>\n",
       "      <td>74.426179</td>\n",
       "    </tr>\n",
       "    <tr>\n",
       "      <th>3</th>\n",
       "      <td>University 2</td>\n",
       "      <td>2</td>\n",
       "      <td>2.0</td>\n",
       "      <td>63.911831</td>\n",
       "    </tr>\n",
       "    <tr>\n",
       "      <th>...</th>\n",
       "      <td>...</td>\n",
       "      <td>...</td>\n",
       "      <td>...</td>\n",
       "      <td>...</td>\n",
       "    </tr>\n",
       "    <tr>\n",
       "      <th>16</th>\n",
       "      <td>University 1</td>\n",
       "      <td>9</td>\n",
       "      <td>2.0</td>\n",
       "      <td>121.066348</td>\n",
       "    </tr>\n",
       "    <tr>\n",
       "      <th>17</th>\n",
       "      <td>University 2</td>\n",
       "      <td>9</td>\n",
       "      <td>1.0</td>\n",
       "      <td>205.742469</td>\n",
       "    </tr>\n",
       "    <tr>\n",
       "      <th>18</th>\n",
       "      <td>University 1</td>\n",
       "      <td>10</td>\n",
       "      <td>2.0</td>\n",
       "      <td>163.263216</td>\n",
       "    </tr>\n",
       "    <tr>\n",
       "      <th>19</th>\n",
       "      <td>University 2</td>\n",
       "      <td>10</td>\n",
       "      <td>1.0</td>\n",
       "      <td>220.952920</td>\n",
       "    </tr>\n",
       "  </tbody>\n",
       "</table>\n",
       "<p>20 rows × 4 columns</p>\n",
       "</div>"
      ],
      "text/plain": [
       "      University  Time  Rank       Score\n",
       "0   University 1     1   1.0   71.684350\n",
       "1   University 2     1   2.0   62.146668\n",
       "2   University 1     2   1.0   74.426179\n",
       "3   University 2     2   2.0   63.911831\n",
       "..           ...   ...   ...         ...\n",
       "16  University 1     9   2.0  121.066348\n",
       "17  University 2     9   1.0  205.742469\n",
       "18  University 1    10   2.0  163.263216\n",
       "19  University 2    10   1.0  220.952920\n",
       "\n",
       "[20 rows x 4 columns]"
      ]
     },
     "metadata": {},
     "output_type": "display_data"
    }
   ],
   "source": [
    "from ranking_system import *\n",
    "\n",
    "number_of_time_steps = 10\n",
    "number_of_universities = 2\n",
    "\n",
    "# Create a list of attributes (name, ranking weight)\n",
    "attributes = [Attribute('research', 0.7), Attribute('faculty', 0.3)]\n",
    "\n",
    "# Create a new model\n",
    "model = RankingModel(number_of_universities, attributes)\n",
    "\n",
    "# Run the model\n",
    "model.run(number_of_time_steps)\n",
    "\n",
    "# Display the scores\n",
    "model.display_ranking()"
   ]
  },
  {
   "cell_type": "code",
   "execution_count": 2,
   "metadata": {},
   "outputs": [
    {
     "data": {
      "image/png": "[encoded data removed]",
      "text/plain": [
       "<Figure size 432x288 with 1 Axes>"
      ]
     },
     "metadata": {},
     "output_type": "display_data"
    }
   ],
   "source": [
    "%matplotlib inline\n",
    "\n",
    "# Plot the university score over time\n",
    "line_plot(get_score_by_agent(model), 'time', 'score', 'Scores over time')                   "
   ]
  },
  {
   "cell_type": "code",
   "execution_count": null,
   "metadata": {
    "collapsed": true
   },
   "outputs": [],
   "source": []
  },
  {
   "cell_type": "code",
   "execution_count": null,
   "metadata": {
    "collapsed": true
   },
   "outputs": [],
   "source": []
  }
 ],
 "metadata": {
  "kernelspec": {
   "display_name": "Python 3",
   "language": "python",
   "name": "python3"
  },
  "language_info": {
   "codemirror_mode": {
    "name": "ipython",
    "version": 3
   },
   "file_extension": ".py",
   "mimetype": "text/x-python",
   "name": "python",
   "nbconvert_exporter": "python",
   "pygments_lexer": "ipython3",
   "version": "3.6.3"
  }
 },
 "nbformat": 4,
 "nbformat_minor": 1
}
