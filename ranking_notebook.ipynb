{
 "cells": [
  {
   "cell_type": "markdown",
   "metadata": {
    "collapsed": true
   },
   "source": [
    "# A Model for Rankings"
   ]
  },
  {
   "cell_type": "code",
   "execution_count": 1,
   "metadata": {},
   "outputs": [],
   "source": [
    "# Necessary imports\n",
    "from ranking_system import *\n",
    "%matplotlib inline"
   ]
  },
  {
   "cell_type": "markdown",
   "metadata": {},
   "source": [
    "$r_u(t)$ = the ranking of university $u$ at time $t$.\n",
    "\n",
    "We'll use $t$ to represent time, which will generally think of\n",
    "as discrete. Thus $r_u(t-1)$ is university $u$'s ranking the year before."
   ]
  },
  {
   "cell_type": "code",
   "execution_count": 2,
   "metadata": {},
   "outputs": [],
   "source": [
    "# Time steps\n",
    "T = 10\n",
    "\n",
    "# Universities\n",
    "U = 2"
   ]
  },
  {
   "cell_type": "markdown",
   "metadata": {},
   "source": [
    "Let $M$ be the number of attributes in the ranking."
   ]
  },
  {
   "cell_type": "code",
   "execution_count": 3,
   "metadata": {},
   "outputs": [],
   "source": [
    "# Attributes\n",
    "M = 2"
   ]
  },
  {
   "cell_type": "markdown",
   "metadata": {},
   "source": [
    "$y_{i,u}(t)$ = the value of university $u$'s i-th attribute,\n",
    "where $i$ ranges from 1 to $M$.\n",
    "\n",
    "$w_i(t)$ is the weightage given to attribute $i$ in the ranking.\n",
    "This generally does not change frequently."
   ]
  },
  {
   "cell_type": "code",
   "execution_count": 4,
   "metadata": {},
   "outputs": [],
   "source": [
    "# Create weightage functions\n",
    "# Return the weight used for ranking attribute i at time t\n",
    "# The sum of the M weightage functions at time t must add up to 1\n",
    "\n",
    "\n",
    "def weightage_average_spending_per_student(t):\n",
    "    \"\"\"Weight given to average spending per student attribute\n",
    "       Decreases at time t greater than 5\"\"\"\n",
    "    return 0.7 if t < 5 else 0.6\n",
    "\n",
    "\n",
    "def weightage_average_class_size(t):\n",
    "    \"\"\"Weight given to average class size attribute\n",
    "       Increases at time t greater than 5\"\"\"\n",
    "    return 0.3 if t < 5 else 0.4"
   ]
  },
  {
   "cell_type": "markdown",
   "metadata": {},
   "source": [
    "The _valuation_ functions $V_i$ need a little explanation.\n",
    "\n",
    "Think of them as the true valuation of a particular attribute, complete with\n",
    "lower/upper bounds and potential non-linearities.\n",
    "\n",
    "For example, consider the attribute \"average class size\". A ranking could ignore class sizes below 5, and could likewise scale up non-linearly so that a class size of 300 is not much worse than a class size of 200. This means that one could have a step-like $V_i$ function for class sizes to give us the actual value used in the weighted score."
   ]
  },
  {
   "cell_type": "code",
   "execution_count": 5,
   "metadata": {},
   "outputs": [],
   "source": [
    "# Create valuation functions\n",
    "# Return the true valuation of attribute i at time t \n",
    "\n",
    "\n",
    "def valuation_average_spending_per_student(average_spending_per_student):\n",
    "    \"\"\"Valuation given to the average spending per student attribute\"\"\"\n",
    "    # Step like function for average spending per student\n",
    "    if average_spending_per_student > 10_000:\n",
    "        # Spending more than 10,000 per student receives the most credit\n",
    "        return 100\n",
    "    elif average_spending_per_student > 7_500:\n",
    "        # Spending between 7,500 and 10,000 per student scores second highest\n",
    "        return 75\n",
    "    elif average_spending_per_student < 5_000:\n",
    "        # Spending between 5,000 and 7,500 per student scores third highest\n",
    "        return 50\n",
    "    elif average_spending_per_student < 2_500:\n",
    "        # Spending between 2,500 and 5,000 per student scores fourth highest\n",
    "        return 25\n",
    "    else:\n",
    "        # Spending less than 2,500 per student receives no credit\n",
    "        return 0\n",
    "\n",
    "    \n",
    "def valuation_average_class_size(average_class_size):\n",
    "    \"\"\"Valuation given to the average class size attribute\"\"\"\n",
    "    # Step like function for average class size\n",
    "    if average_class_size < 20:\n",
    "        # Classes with fewer than 20 students receive the most credit\n",
    "        return 100\n",
    "    elif average_class_size < 30:\n",
    "        # Classes with 20 to 29 students score second highest\n",
    "        return 75\n",
    "    elif average_class_size < 40:\n",
    "        # Classes with 30 to 39 students score third highest\n",
    "        return 50\n",
    "    elif average_class_size < 50:\n",
    "        # Classes with 40 to 49 students score fourth highest\n",
    "        return 25\n",
    "    else:\n",
    "        # Classes that are 50 or more students receive no credit\n",
    "        return 0"
   ]
  },
  {
   "cell_type": "markdown",
   "metadata": {},
   "source": [
    "Define the _production_ functions $P_{i,u}$ as\n",
    "\n",
    "   $$\n",
    "        y_{i,u}(t) = P_{i,u}( x_{i,u}(t) )\n",
    "   $$\n",
    "\n",
    "Here, the idea is to model non-linearities. \n",
    "\n",
    "Simply adding dollars does not decrease class-sizes linearly.\n",
    "\n",
    "There may be floors, ceilings or other non-linearities, and universities will differ in these \"bang-for-the-buck\" functions."
   ]
  },
  {
   "cell_type": "code",
   "execution_count": 6,
   "metadata": {},
   "outputs": [],
   "source": [
    "# Create production functions\n",
    "\n",
    "\n",
    "def production_average_spending_per_student(dollars, random):\n",
    "    \"\"\"Production function for the average spending per student attribute\"\"\"\n",
    "    # Educational: spending on instruction, research, and student services\n",
    "    # Non-educational: spending on sports, dorms, and hospitals\n",
    "    # Universities will differ in the percentage of dollars spent on educational\n",
    "    # versus non-educational resources.\n",
    "    # The educational spending percentage may change from year to year.\n",
    "    educational_spending_percentage = random.uniform(0.5, 1)\n",
    "    return dollars * educational_spending_percentage\n",
    "\n",
    "\n",
    "def production_average_class_size(dollars, random):\n",
    "    \"\"\"Production function for the average class size attribute\"\"\"\n",
    "    if dollars > random.uniform(9_000, 10_000):\n",
    "        return 10\n",
    "    elif dollars > random.uniform(6_000, 9_000):\n",
    "        return 20\n",
    "    elif dollars > random.uniform(3_000, 6_000):\n",
    "        return 30\n",
    "    elif dollars > random.uniform(2_000, 3_000):\n",
    "        return 40\n",
    "    elif dollars > random.uniform(1_000, 2_000):\n",
    "        return 50\n",
    "    elif dollars > random.uniform(500, 1_000):\n",
    "        return 100\n",
    "    else:\n",
    "        return 200"
   ]
  },
  {
   "cell_type": "code",
   "execution_count": 7,
   "metadata": {},
   "outputs": [],
   "source": [
    "# Create a list of M attributes \n",
    "# Parameters: name, weightage function, valuation function, production function\n",
    "\n",
    "attributes = [Attribute('Average Spending Per Student',\n",
    "                        weightage_average_spending_per_student,\n",
    "                        valuation_average_spending_per_student,\n",
    "                        production_average_spending_per_student),\n",
    "              Attribute('Average Class Size',\n",
    "                        weightage_average_class_size,\n",
    "                        valuation_average_class_size,\n",
    "                        production_average_class_size)]"
   ]
  },
  {
   "cell_type": "markdown",
   "metadata": {},
   "source": [
    "We will now define the _score_ of a university as\n",
    "\n",
    "$$\n",
    "     \\mu_u(t) = \\sum_{i} w_i(t) V_i(y_{i,u}(t))\n",
    "$$\n",
    "\n",
    "The ranking then, is just an ordering of the universities in epoch\n",
    "$t$ using their $\\mu_u(t)$ values."
   ]
  },
  {
   "cell_type": "code",
   "execution_count": 8,
   "metadata": {},
   "outputs": [
    {
     "data": {
      "text/html": [
       "<div>\n",
       "<style scoped>\n",
       "    .dataframe tbody tr th:only-of-type {\n",
       "        vertical-align: middle;\n",
       "    }\n",
       "\n",
       "    .dataframe tbody tr th {\n",
       "        vertical-align: top;\n",
       "    }\n",
       "\n",
       "    .dataframe thead th {\n",
       "        text-align: right;\n",
       "    }\n",
       "</style>\n",
       "<table border=\"1\" class=\"dataframe\">\n",
       "  <thead>\n",
       "    <tr style=\"text-align: right;\">\n",
       "      <th></th>\n",
       "      <th>University</th>\n",
       "      <th>Time</th>\n",
       "      <th>Rank</th>\n",
       "      <th>Score</th>\n",
       "      <th>Normalized Score</th>\n",
       "      <th>Funding 1</th>\n",
       "      <th>Funding 2</th>\n",
       "    </tr>\n",
       "  </thead>\n",
       "  <tbody>\n",
       "    <tr>\n",
       "      <th>0</th>\n",
       "      <td>University 1</td>\n",
       "      <td>1</td>\n",
       "      <td>2</td>\n",
       "      <td>35.0</td>\n",
       "      <td>58</td>\n",
       "      <td>5014.67</td>\n",
       "      <td>1122.82</td>\n",
       "    </tr>\n",
       "    <tr>\n",
       "      <th>1</th>\n",
       "      <td>University 2</td>\n",
       "      <td>1</td>\n",
       "      <td>1</td>\n",
       "      <td>60.0</td>\n",
       "      <td>100</td>\n",
       "      <td>9613.51</td>\n",
       "      <td>4435.33</td>\n",
       "    </tr>\n",
       "    <tr>\n",
       "      <th>2</th>\n",
       "      <td>University 1</td>\n",
       "      <td>2</td>\n",
       "      <td>1</td>\n",
       "      <td>52.5</td>\n",
       "      <td>100</td>\n",
       "      <td>10198.35</td>\n",
       "      <td>583.69</td>\n",
       "    </tr>\n",
       "    <tr>\n",
       "      <th>3</th>\n",
       "      <td>University 2</td>\n",
       "      <td>2</td>\n",
       "      <td>2</td>\n",
       "      <td>42.5</td>\n",
       "      <td>81</td>\n",
       "      <td>856.20</td>\n",
       "      <td>3034.86</td>\n",
       "    </tr>\n",
       "    <tr>\n",
       "      <th>...</th>\n",
       "      <td>...</td>\n",
       "      <td>...</td>\n",
       "      <td>...</td>\n",
       "      <td>...</td>\n",
       "      <td>...</td>\n",
       "      <td>...</td>\n",
       "      <td>...</td>\n",
       "    </tr>\n",
       "    <tr>\n",
       "      <th>16</th>\n",
       "      <td>University 1</td>\n",
       "      <td>9</td>\n",
       "      <td>2</td>\n",
       "      <td>0.0</td>\n",
       "      <td>0</td>\n",
       "      <td>12395.06</td>\n",
       "      <td>985.23</td>\n",
       "    </tr>\n",
       "    <tr>\n",
       "      <th>17</th>\n",
       "      <td>University 2</td>\n",
       "      <td>9</td>\n",
       "      <td>1</td>\n",
       "      <td>50.0</td>\n",
       "      <td>100</td>\n",
       "      <td>4794.31</td>\n",
       "      <td>6840.42</td>\n",
       "    </tr>\n",
       "    <tr>\n",
       "      <th>18</th>\n",
       "      <td>University 1</td>\n",
       "      <td>10</td>\n",
       "      <td>1</td>\n",
       "      <td>60.0</td>\n",
       "      <td>100</td>\n",
       "      <td>1824.26</td>\n",
       "      <td>8652.14</td>\n",
       "    </tr>\n",
       "    <tr>\n",
       "      <th>19</th>\n",
       "      <td>University 2</td>\n",
       "      <td>10</td>\n",
       "      <td>2</td>\n",
       "      <td>0.0</td>\n",
       "      <td>0</td>\n",
       "      <td>6229.45</td>\n",
       "      <td>961.62</td>\n",
       "    </tr>\n",
       "  </tbody>\n",
       "</table>\n",
       "<p>20 rows × 7 columns</p>\n",
       "</div>"
      ],
      "text/plain": [
       "      University  Time  Rank  Score  Normalized Score  Funding 1  Funding 2\n",
       "0   University 1     1     2   35.0                58    5014.67    1122.82\n",
       "1   University 2     1     1   60.0               100    9613.51    4435.33\n",
       "2   University 1     2     1   52.5               100   10198.35     583.69\n",
       "3   University 2     2     2   42.5                81     856.20    3034.86\n",
       "..           ...   ...   ...    ...               ...        ...        ...\n",
       "16  University 1     9     2    0.0                 0   12395.06     985.23\n",
       "17  University 2     9     1   50.0               100    4794.31    6840.42\n",
       "18  University 1    10     1   60.0               100    1824.26    8652.14\n",
       "19  University 2    10     2    0.0                 0    6229.45     961.62\n",
       "\n",
       "[20 rows x 7 columns]"
      ]
     },
     "metadata": {},
     "output_type": "display_data"
    },
    {
     "data": {
      "image/png": "[encoded data removed]",
      "text/plain": [
       "<Figure size 432x288 with 1 Axes>"
      ]
     },
     "metadata": {
      "needs_background": "light"
     },
     "output_type": "display_data"
    }
   ],
   "source": [
    "# Create a new model\n",
    "model = RankingModel(U, attributes, random_seed=13579)\n",
    "\n",
    "# Run the model\n",
    "model.run(T)\n",
    "\n",
    "# Display the scores and ranking\n",
    "display_ranking(model, all_rows=False)\n",
    "\n",
    "# Plot the university score over time\n",
    "line_plot(find_values_by_agent(model, 'score'), 'time', 'score', 'Scores over time')"
   ]
  },
  {
   "cell_type": "code",
   "execution_count": null,
   "metadata": {},
   "outputs": [],
   "source": []
  }
 ],
 "metadata": {
  "kernelspec": {
   "display_name": "Python 3",
   "language": "python",
   "name": "python3"
  },
  "language_info": {
   "codemirror_mode": {
    "name": "ipython",
    "version": 3
   },
   "file_extension": ".py",
   "mimetype": "text/x-python",
   "name": "python",
   "nbconvert_exporter": "python",
   "pygments_lexer": "ipython3",
   "version": "3.7.2"
  }
 },
 "nbformat": 4,
 "nbformat_minor": 1
}
