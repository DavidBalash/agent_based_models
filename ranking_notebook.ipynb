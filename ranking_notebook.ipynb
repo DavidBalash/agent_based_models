{
 "cells": [
  {
   "cell_type": "markdown",
   "metadata": {
    "collapsed": true
   },
   "source": [
    "# A Model for Rankings"
   ]
  },
  {
   "cell_type": "code",
   "execution_count": 1,
   "metadata": {
    "collapsed": true
   },
   "outputs": [],
   "source": [
    "from ranking_system import *\n",
    "%matplotlib inline"
   ]
  },
  {
   "cell_type": "markdown",
   "metadata": {},
   "source": [
    "$r_u(t)$ = the ranking of university $u$ at time $t$.\n",
    "\n",
    "We'll use $t$ to represent time, which will generally think of\n",
    "as discrete. Thus $r_u(t-1)$ is university $u$'s ranking the year before."
   ]
  },
  {
   "cell_type": "code",
   "execution_count": 2,
   "metadata": {
    "collapsed": true
   },
   "outputs": [],
   "source": [
    "# Time steps\n",
    "T = 10\n",
    "\n",
    "# Universities\n",
    "U = 2"
   ]
  },
  {
   "cell_type": "markdown",
   "metadata": {},
   "source": [
    "Let $M$ be the number of attributes in the ranking."
   ]
  },
  {
   "cell_type": "code",
   "execution_count": 3,
   "metadata": {
    "collapsed": true
   },
   "outputs": [],
   "source": [
    "# Attributes\n",
    "M = 2"
   ]
  },
  {
   "cell_type": "markdown",
   "metadata": {},
   "source": [
    "$y_{i,u}(t)$ = the value of university $u$'s i-th attribute,\n",
    "where $i$ ranges from 1 to $M$.\n",
    "\n",
    "$w_i(t)$ is the weightage given to attribute $i$ in the ranking.\n",
    "This generally does not change frequently."
   ]
  },
  {
   "cell_type": "code",
   "execution_count": 4,
   "metadata": {
    "collapsed": true
   },
   "outputs": [],
   "source": [
    "# Create weightage functions\n",
    "# Return the weight used for ranking attribute i at time t\n",
    "# The sum of the M weightage functions at time t must add up to 1\n",
    "\n",
    "def weightage_research(t):\n",
    "    \"\"\"Weight given to research attribute\n",
    "       Decreases at time t greater than 5\"\"\"\n",
    "    return 0.7 if t < 5 else 0.6\n",
    "\n",
    "def weightage_average_class_size(t):\n",
    "    \"\"\"Weight given to average class size attribute\n",
    "       Increases at time t greater than 5\"\"\"\n",
    "    return 0.3 if t < 5 else 0.4"
   ]
  },
  {
   "cell_type": "markdown",
   "metadata": {},
   "source": [
    "The _valuation_ functions $V_i$ need a little explanation.\n",
    "\n",
    "Think of them as the true valuation of a particular attribute, complete with\n",
    "lower/upper bounds and potential non-linearities.\n",
    "\n",
    "For example, consider the attribute \"average class size\". A ranking could ignore class sizes below 5, and could likewise scale up non-linearly so that a class size of 300 is not much worse than a class size of 200. This means that one could have a step-like $V_i$ function for class sizes to give us the actual value used in the weighted score."
   ]
  },
  {
   "cell_type": "code",
   "execution_count": null,
   "metadata": {
    "collapsed": true
   },
   "outputs": [],
   "source": [
    "# Create valuation functions\n",
    "\n",
    "def valuation_research(value, max_value, steepness):\n",
    "    \"\"\"Valuation given to the research attribute\n",
    "    max_value - The maximum possible input value\n",
    "    steepness - The steepness factor from 1(low) to 5(high)\"\"\"\n",
    "    # S-shaped curve.\n",
    "    # Map the value from 0 to max_value to from 0 to steepness factor.\n",
    "    # The hyperbolic tangent function used as a sigmoid to make S curve.\n",
    "    # Idea: research spending is intially beneficial but the benefit\n",
    "    # becomes constrained after a certain spending amount.\n",
    "    return 100 * np.tanh(np.interp(value, [0, max_value], [0, steepness]))\n",
    "\n",
    "def valuation_average_class_size(average_class_size):\n",
    "    \"\"\"Valuation given to the average class size attribute\"\"\"\n",
    "    # Step like function for average class size\n",
    "    if average_class_size < 20:\n",
    "        # Classes with fewer than 20 students receive the most credit\n",
    "        return 100\n",
    "    elif 20 <= average_class_size < 30:\n",
    "        # Classes with 20 to 29 students score second highest\n",
    "        return 75\n",
    "    elif 30 <= average_class_size < 40:\n",
    "        # Classes with 30 to 39 students score third highest\n",
    "        return 50\n",
    "    elif 40 <= average_class_size < 50:\n",
    "        # Classes with 40 to 49 students score fourth highest\n",
    "        return 25\n",
    "    else\n",
    "        # Classes that are 50 or more students receive no credit\n",
    "        return 0\n",
    "\n",
    "# Create a list of M attributes \n",
    "# Parameters: name, weightage function, valuation function\n",
    "attributes = [Attribute('Research',\n",
    "                        weightage_research,\n",
    "                        valuation_research),\n",
    "              Attribute('Average Class Size',\n",
    "                        weightage_average_class_size,\n",
    "                        valuation_average_class_size)]"
   ]
  },
  {
   "cell_type": "markdown",
   "metadata": {},
   "source": [
    "We will now define the _score_ of a university as\n",
    "\n",
    "$$\n",
    "     \\mu_u(t) = \\sum_{i} w_i(t) V_i(y_{i,u}(t))\n",
    "$$\n",
    "\n",
    "The ranking then, is just an ordering of the universities in epoch\n",
    "$t$ using their $\\mu_u(t)$ values."
   ]
  },
  {
   "cell_type": "code",
   "execution_count": 5,
   "metadata": {},
   "outputs": [
    {
     "data": {
      "text/html": [
       "<div>\n",
       "<style scoped>\n",
       "    .dataframe tbody tr th:only-of-type {\n",
       "        vertical-align: middle;\n",
       "    }\n",
       "\n",
       "    .dataframe tbody tr th {\n",
       "        vertical-align: top;\n",
       "    }\n",
       "\n",
       "    .dataframe thead th {\n",
       "        text-align: right;\n",
       "    }\n",
       "</style>\n",
       "<table border=\"1\" class=\"dataframe\">\n",
       "  <thead>\n",
       "    <tr style=\"text-align: right;\">\n",
       "      <th></th>\n",
       "      <th>University</th>\n",
       "      <th>Time</th>\n",
       "      <th>Rank</th>\n",
       "      <th>Score</th>\n",
       "      <th>Normalized Score</th>\n",
       "    </tr>\n",
       "  </thead>\n",
       "  <tbody>\n",
       "    <tr>\n",
       "      <th>0</th>\n",
       "      <td>University 1</td>\n",
       "      <td>1</td>\n",
       "      <td>2</td>\n",
       "      <td>71.82</td>\n",
       "      <td>74</td>\n",
       "    </tr>\n",
       "    <tr>\n",
       "      <th>1</th>\n",
       "      <td>University 2</td>\n",
       "      <td>1</td>\n",
       "      <td>1</td>\n",
       "      <td>96.58</td>\n",
       "      <td>100</td>\n",
       "    </tr>\n",
       "    <tr>\n",
       "      <th>2</th>\n",
       "      <td>University 1</td>\n",
       "      <td>2</td>\n",
       "      <td>2</td>\n",
       "      <td>99.13</td>\n",
       "      <td>98</td>\n",
       "    </tr>\n",
       "    <tr>\n",
       "      <th>3</th>\n",
       "      <td>University 2</td>\n",
       "      <td>2</td>\n",
       "      <td>1</td>\n",
       "      <td>100.87</td>\n",
       "      <td>100</td>\n",
       "    </tr>\n",
       "    <tr>\n",
       "      <th>...</th>\n",
       "      <td>...</td>\n",
       "      <td>...</td>\n",
       "      <td>...</td>\n",
       "      <td>...</td>\n",
       "      <td>...</td>\n",
       "    </tr>\n",
       "    <tr>\n",
       "      <th>16</th>\n",
       "      <td>University 1</td>\n",
       "      <td>9</td>\n",
       "      <td>1</td>\n",
       "      <td>169.76</td>\n",
       "      <td>100</td>\n",
       "    </tr>\n",
       "    <tr>\n",
       "      <th>17</th>\n",
       "      <td>University 2</td>\n",
       "      <td>9</td>\n",
       "      <td>2</td>\n",
       "      <td>154.69</td>\n",
       "      <td>91</td>\n",
       "    </tr>\n",
       "    <tr>\n",
       "      <th>18</th>\n",
       "      <td>University 1</td>\n",
       "      <td>10</td>\n",
       "      <td>1</td>\n",
       "      <td>174.77</td>\n",
       "      <td>100</td>\n",
       "    </tr>\n",
       "    <tr>\n",
       "      <th>19</th>\n",
       "      <td>University 2</td>\n",
       "      <td>10</td>\n",
       "      <td>2</td>\n",
       "      <td>155.79</td>\n",
       "      <td>89</td>\n",
       "    </tr>\n",
       "  </tbody>\n",
       "</table>\n",
       "<p>20 rows × 5 columns</p>\n",
       "</div>"
      ],
      "text/plain": [
       "      University  Time  Rank   Score  Normalized Score\n",
       "0   University 1     1     2   71.82                74\n",
       "1   University 2     1     1   96.58               100\n",
       "2   University 1     2     2   99.13                98\n",
       "3   University 2     2     1  100.87               100\n",
       "..           ...   ...   ...     ...               ...\n",
       "16  University 1     9     1  169.76               100\n",
       "17  University 2     9     2  154.69                91\n",
       "18  University 1    10     1  174.77               100\n",
       "19  University 2    10     2  155.79                89\n",
       "\n",
       "[20 rows x 5 columns]"
      ]
     },
     "metadata": {},
     "output_type": "display_data"
    },
    {
     "data": {
      "image/png": "[encoded data removed]",
      "text/plain": [
       "<Figure size 432x288 with 1 Axes>"
      ]
     },
     "metadata": {},
     "output_type": "display_data"
    }
   ],
   "source": [
    "# Create a new model\n",
    "model = RankingModel(U, attributes, random_seed=13579)\n",
    "\n",
    "# Run the model\n",
    "model.run(T)\n",
    "\n",
    "# Display the scores and ranking\n",
    "display_ranking(model, all_rows=False)\n",
    "\n",
    "# Plot the university score over time\n",
    "line_plot(get_score_by_agent(model), 'time', 'score', 'Scores over time')"
   ]
  },
  {
   "cell_type": "code",
   "execution_count": null,
   "metadata": {
    "collapsed": true
   },
   "outputs": [],
   "source": []
  }
 ],
 "metadata": {
  "kernelspec": {
   "display_name": "Python 3",
   "language": "python",
   "name": "python3"
  },
  "language_info": {
   "codemirror_mode": {
    "name": "ipython",
    "version": 3
   },
   "file_extension": ".py",
   "mimetype": "text/x-python",
   "name": "python",
   "nbconvert_exporter": "python",
   "pygments_lexer": "ipython3",
   "version": "3.6.3"
  }
 },
 "nbformat": 4,
 "nbformat_minor": 1
}
